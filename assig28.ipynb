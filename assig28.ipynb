{
 "cells": [
  {
   "cell_type": "markdown",
   "id": "9f274576-50d3-4cf6-9c53-65e88c93a488",
   "metadata": {},
   "source": [
    "## 1.\n",
    "Ridge regression is a model tuning method that is used to analyse any data that suffers from multicollinearity. This method performs L2 regularization. When the issue of multicollinearity occurs, least-squares are unbiased, and variances are large, this results in predicted values being far away from the actual values.\n",
    "\n",
    "In ordinary least square regression there is a difference in variance between predictor variables, OLS tends to give higher variance for coefficients corresponding to predictors with higher variance, while Ridge Regression reduces the variance differences between coefficients by shrinking them towards zero."
   ]
  },
  {
   "cell_type": "markdown",
   "id": "ff2a27cb-90e2-4eed-b5f4-7689be6d1ef3",
   "metadata": {},
   "source": [
    "## 2.\n",
    "The assumptions of ridge regression are the same as that of linear regression: linearity, constant variance, and independence. However, as ridge regression does not provide confidence limits, the distribution of errors to be normal need not be assumed."
   ]
  },
  {
   "cell_type": "markdown",
   "id": "12ba0d27-d8ce-4678-8dc0-6403571dcae7",
   "metadata": {},
   "source": [
    "## 3.\n",
    "Selecting a good value for λ is critical. When λ=0, the penalty term has no effect, and ridge regression will produce the classical least square coefficients. However, as λ increases to infinite, the impact of the shrinkage penalty grows, and the ridge regression coefficients will get close zero.\n",
    "\n",
    "The optimal lambda value comes out to be 0.001 and will be used to build the ridge regression model."
   ]
  },
  {
   "cell_type": "markdown",
   "id": "2a058f1a-59c0-4c16-8617-766cc5f6e1f3",
   "metadata": {},
   "source": [
    "## 4.\n",
    "We can use ridge regression for feature selection while fitting the model.\n",
    "\n",
    "Ridge regression is popular because it uses regularization for making predictions and regularization is intended to resolve the problem of overfitting. We mainly find that overfitting is where the size of data is very large and ridge regression works by penalizing the coefficient of features and it also minimizes the errors in prediction. "
   ]
  },
  {
   "cell_type": "markdown",
   "id": "23191c3c-4c7a-4253-a488-e70786bb5acd",
   "metadata": {},
   "source": [
    "## 5.\n",
    "Ridge Regression is a technique for analyzing multiple regression data that suffer from multicollinearity.\n",
    "\n",
    "When multicollinearity occurs, least squares estimates are unbiased, but their variances are large so they may be far from the true value. By adding a degree of bias to the regression estimates, ridge regression reduces the standard errors."
   ]
  },
  {
   "cell_type": "markdown",
   "id": "51c9b71b-7d12-4fb9-b539-da012cda1614",
   "metadata": {},
   "source": [
    "## 6.\n",
    "Yes, Ridge Regression is used to handle both categorical and continuous independent variable."
   ]
  },
  {
   "cell_type": "markdown",
   "id": "68751c50-00c9-4e64-a572-6ac93eb4cd49",
   "metadata": {},
   "source": [
    "## 7.\n",
    "The ridge coefficients are a reduced factor of the simple linear regression coefficients and thus never attain zero values but very small values. "
   ]
  },
  {
   "cell_type": "markdown",
   "id": "7c39d405-3a10-4f77-9f8c-14037e0ca64f",
   "metadata": {},
   "source": [
    "## 8.\n",
    "Yes, Ridge regression can be used for time seires analysis.\n",
    "\n",
    "Ridge regression is an expansion of linear regression. It's fundamentally a regularization of the linear regression model. Ridge regression uses the damping factor (λ) as a scalar that should be learned, normally it will utilize a method called cross-validation to find the value."
   ]
  },
  {
   "cell_type": "code",
   "execution_count": null,
   "id": "f8ecbdc4-d021-4cfa-8bf4-d44f614a9fbd",
   "metadata": {},
   "outputs": [],
   "source": []
  }
 ],
 "metadata": {
  "kernelspec": {
   "display_name": "Python 3 (ipykernel)",
   "language": "python",
   "name": "python3"
  },
  "language_info": {
   "codemirror_mode": {
    "name": "ipython",
    "version": 3
   },
   "file_extension": ".py",
   "mimetype": "text/x-python",
   "name": "python",
   "nbconvert_exporter": "python",
   "pygments_lexer": "ipython3",
   "version": "3.10.8"
  }
 },
 "nbformat": 4,
 "nbformat_minor": 5
}
