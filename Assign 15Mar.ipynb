{
 "cells": [
  {
   "cell_type": "markdown",
   "id": "675067c6-7129-4f12-87df-289a72b5d295",
   "metadata": {},
   "source": [
    "## 1.\n",
    "Artificial Intelligence: Artificial intelligence refers to the simulation of human intelligence processes by machines, particularly computer systems. This can include tasks such as learning, problem-solving, and understanding language. Example  Siri, Alexa, or Google Assistant, which can understand and respond to user commands and queries.\n",
    "\n",
    "Machine Learning: Machine learning is a subset of artificial intelligence that focuses on the development of algorithms that allow computers to learn and make predictions or decisions based on data. An example could be the use of machine learning in spam filters, where the system continuously learns from incoming emails to identify and filter out spam.\n",
    "\n",
    "Deep Learning: Deep learning is a specific type of machine learning that uses neural networks with multiple layers to interpret data. An example of this is the application of deep learning in image recognition, where algorithms can be trained to accurately identify objects within images, enabling technologies like facial recognition and photo tagging on social media platforms."
   ]
  },
  {
   "cell_type": "markdown",
   "id": "9680bf35-5e63-4d46-8cd5-37c400f283da",
   "metadata": {},
   "source": [
    "## 2.\n",
    "Supervised learning is a type of machine learning where the model is trained on a labeled dataset, meaning that each input has a corresponding output. The goal is to learn a mapping from input to output so that the model can make predictions on new, unseen data.\n",
    "\n",
    "examples : Email Spam Classification, Medical diagnosis, Stock Market prediction"
   ]
  },
  {
   "cell_type": "markdown",
   "id": "b3935023-7b14-459f-ae19-8d3cab53892b",
   "metadata": {},
   "source": [
    "## 3.\n",
    "Unsupervised learning is a type of machine learning where the model is trained on unlabeled data, and the goal is to explore the underlying structure or patterns within the data without specific guidance. Here are some examples of unsupervised learning:\n",
    "\n",
    "examples : Clustering,Anamoly detection"
   ]
  },
  {
   "cell_type": "markdown",
   "id": "f9ed4f33-48e7-4f99-9900-9e41cacf3b85",
   "metadata": {},
   "source": [
    "## 4.\n",
    "AI is the broader concept of simulating human intelligence in machines, ML is a subset of AI focused on creating models that learn from data, DL is a subset of ML using deep neural networks, and DS is an interdisciplinary field focused on extracting insights from data using scientific methods. Each of these areas plays a crucial role in modern technology and has distinct applications and techniques."
   ]
  },
  {
   "cell_type": "markdown",
   "id": "355ef05a-a6c8-4715-a4d8-ef7eb19758b0",
   "metadata": {},
   "source": [
    "## 5.\n",
    "Supervised Learning: In supervised learning, the model is trained on a labeled dataset, meaning that each input has a corresponding output. The goal is to learn a mapping from input to output so that the model can make predictions on new, unseen data.\n",
    "\n",
    "Unsupervised Learning: Unsupervised learning involves training the model on an unlabeled dataset. The model explores the underlying structure or patterns within the data without specific guidance, such as through clustering, dimensionality reduction, and anomaly detection.\n",
    "\n",
    "Semi-Supervised Learning: Semi-supervised learning combines elements of both supervised and unsupervised learning. It involves training on a dataset that contains a small amount of labeled data and a large amount of unlabeled data. The model leverages the labeled data for guidance while also exploring the unlabeled data to improve its understanding of the underlying structure."
   ]
  },
  {
   "cell_type": "markdown",
   "id": "6aeccb19-b089-4d36-bb6d-fb7a3bae83ae",
   "metadata": {},
   "source": [
    "## 6.\n",
    "Training Data: This is the portion of the dataset used to train the machine learning model. The model learns patterns and relationships within this portion of the data.\n",
    "\n",
    "Validation Data: After training the model, the validation dataset is used to evaluate the model's performance and tune hyperparameters. It helps prevent overfitting by providing an independent dataset for model evaluation.\n",
    "\n",
    "Test Data: The test dataset is utilized to assess the model's final performance. It serves as a proxy for how the model will perform on new, unseen data.\n",
    "\n",
    "The importance of each term lies in their role in ensuring that the model generalizes well to new, unseen data. The training data allows the model to learn, the validation data helps to fine-tune the model and guard against overfitting, and the test data provides a final evaluation of the model's performance."
   ]
  },
  {
   "cell_type": "markdown",
   "id": "01f8fec3-23fe-4a43-9f52-9e8bc8af32b4",
   "metadata": {},
   "source": [
    "## 7.\n",
    "Unsupervised learning methods can help detect anomalies by revealing patterns and structures within the data that may represent unusual behavior. For instance, clustering can be used to group data points into clusters, and anomalies can be identified as data points that do not belong to any cluster or form their own clusters. Dimensionality reduction techniques can also aid in identifying outliers by highlighting deviations from the expected data distribution."
   ]
  },
  {
   "cell_type": "markdown",
   "id": "2dc9bcb4-5f04-438b-90a1-fa1dbf808b4d",
   "metadata": {},
   "source": [
    "## 8.\n",
    "Commonly used supervised learning algorithms include Linear Regression, Logistic Regression, Decision Trees, Random Forest, Support Vector Machines (SVM), and Naive Bayes. On the other hand, popular unsupervised learning algorithms encompass K-Means Clustering, Hierarchical Clustering, Principal Component Analysis (PCA), t-Distributed Stochastic Neighbor Embedding (t-SNE), and Gaussian Mixture Models (GMM)."
   ]
  },
  {
   "cell_type": "code",
   "execution_count": null,
   "id": "5e3a2f66-abde-4748-8290-37fdfdeee18f",
   "metadata": {},
   "outputs": [],
   "source": []
  }
 ],
 "metadata": {
  "kernelspec": {
   "display_name": "Python 3 (ipykernel)",
   "language": "python",
   "name": "python3"
  },
  "language_info": {
   "codemirror_mode": {
    "name": "ipython",
    "version": 3
   },
   "file_extension": ".py",
   "mimetype": "text/x-python",
   "name": "python",
   "nbconvert_exporter": "python",
   "pygments_lexer": "ipython3",
   "version": "3.10.8"
  }
 },
 "nbformat": 4,
 "nbformat_minor": 5
}
