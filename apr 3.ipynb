{
 "cells": [
  {
   "cell_type": "markdown",
   "id": "d7de71b5-3ce0-4fab-b233-50af365cbb9b",
   "metadata": {},
   "source": [
    "## 1.\n",
    "Precision and recall are two evaluation metrics used to measure the performance of a classifier in binary and multiclass classification problems. Precision measures the accuracy of positive predictions, while recall measures the completeness of positive predictions."
   ]
  },
  {
   "cell_type": "markdown",
   "id": "930cd20c-eefd-4934-b235-7ffb5222471a",
   "metadata": {},
   "source": [
    "## 2. \n",
    "F1 score is a machine learning evaluation metric that measures a model's accuracy. It combines the precision and recall scores of a model. The accuracy metric computes how many times a model made a correct prediction across the entire dataset.\n",
    "\n",
    "F1 Score = 2 * (Precision * Recall) / (Precision + Recall)\n",
    "\n",
    "F1-score is harmonic mean of precision and recall score and is used as a metrics in the scenarios where choosing either of precision or recall score can result in compromise in terms of model giving high false positives and false negatives respectively."
   ]
  },
  {
   "cell_type": "markdown",
   "id": "84476afc-0ee1-4abf-8376-6740bad6a82d",
   "metadata": {},
   "source": [
    "## 3.\n",
    "ROC is a probability curve and AUC represents the degree or measure of separability.\n",
    "\n",
    "The ROC AUC score tells us how efficient the model is. The higher the AUC, the better the model's performance at distinguishing between the positive and negative classes. An AUC score of 1 means the classifier can perfectly distinguish between all the Positive and the Negative class points."
   ]
  },
  {
   "cell_type": "markdown",
   "id": "5da98e0e-fc10-4736-9088-7138e2f2d90c",
   "metadata": {},
   "source": [
    "## 4.\n",
    "To evaluate such a model, we can choose any of the various metrics available to us, like Accuracy, Sensitivity, Specificity, Precision, F1 Score, Probability Threshold, AUC, ROC Curve . It is important that this choice is backed by analytical reasoning. Often, we choose Model Accuracy to evaluate the model."
   ]
  },
  {
   "cell_type": "markdown",
   "id": "003f64b3-92bd-43ac-b71a-e814b60cdd41",
   "metadata": {},
   "source": [
    "## 5.\n",
    "Logistic regression, by default, is limited to two-class classification problems. Some extensions like one-vs-rest can allow logistic regression to be used for multi-class classification problems, although they require that the classification problem first be transformed into multiple binary classification problems."
   ]
  },
  {
   "cell_type": "markdown",
   "id": "5d5d45db-0c7b-4a18-b08e-5d5c03c3a6e2",
   "metadata": {},
   "source": [
    "## 6.\n",
    "Steps involved in end to end projrct for multiclass classification :\n",
    "1) Load dataset from the source.\n",
    "2) Split the dataset into “training” and “test” data.\n",
    "3) Train Decision tree, SVM, and KNN classifiers on the training data.\n",
    "4) Use the above classifiers to predict labels for the test data.\n",
    "5) Measure accuracy and visualize classification."
   ]
  },
  {
   "cell_type": "markdown",
   "id": "4d0f8d6e-ac58-4590-95ad-d8edb06142bf",
   "metadata": {},
   "source": [
    "## 7.\n",
    "Model deployment is the process of putting machine learning models into production. This makes the model's predictions available to users, developers or systems, so they can make business decisions based on data, interact with their application (like recognize a face in an image) and so on.\n",
    "\n",
    "Model deployment ensures that the model can be integrated into a system that can respond quickly to user inputs and generate predictions in real time."
   ]
  },
  {
   "cell_type": "markdown",
   "id": "22230356-8ad4-4e39-98a6-64524834aef2",
   "metadata": {},
   "source": [
    "## 8.\n",
    "The multi-cloud deployment model usually refers to the use of multiple public cloud providers to increase flexibility and fault tolerance, such as the use of Microsoft Azure, Amazon AWS, and Google Cloud. The private cloud can also be thrown into the mix to give extra reliability and flexibility."
   ]
  },
  {
   "cell_type": "markdown",
   "id": "8e8215d4-98a0-42a9-9f6d-25cc52bc4b87",
   "metadata": {},
   "source": [
    "## 9.\n",
    "### Pros of multi-cloud deployment :\n",
    "1) Ability To Pick and Choose. ...\n",
    "2) Gives You the Control. ...\n",
    "3) Better Service Reach. ...\n",
    "4) Less Downtime Overall. ...\n",
    "5) More Cost-Effective. ...\n",
    "\n",
    "### Cons of multi-cloud deployment :\n",
    "1) More Confusing Payments. ...\n",
    "2) Difficult Management. ...\n",
    "3) More Security Risks."
   ]
  },
  {
   "cell_type": "code",
   "execution_count": null,
   "id": "17bcb876-9f83-4e18-8541-b4fa0cd42bbd",
   "metadata": {},
   "outputs": [],
   "source": []
  }
 ],
 "metadata": {
  "kernelspec": {
   "display_name": "Python 3 (ipykernel)",
   "language": "python",
   "name": "python3"
  },
  "language_info": {
   "codemirror_mode": {
    "name": "ipython",
    "version": 3
   },
   "file_extension": ".py",
   "mimetype": "text/x-python",
   "name": "python",
   "nbconvert_exporter": "python",
   "pygments_lexer": "ipython3",
   "version": "3.10.8"
  }
 },
 "nbformat": 4,
 "nbformat_minor": 5
}
